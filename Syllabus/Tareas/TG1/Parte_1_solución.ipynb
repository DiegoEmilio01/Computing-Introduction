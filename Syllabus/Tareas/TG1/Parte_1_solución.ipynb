{
 "cells": [
  {
   "cell_type": "markdown",
   "metadata": {},
   "source": [
    "# Tarea Grande 1\n",
    "\n",
    "##### Nombre: Daniela Flores Villanueva\n",
    "## Importación de librerías\n",
    "\n",
    "En la siguiente celda, se importarán las librerías que serán utilizadas para esta parte de la tarea. Si deseas utilizar una librería adicional y que no sea *built-in*, repórtala en el ```README.md``` de tu repositorio. Solo así podremos saber que necesitamos instalar algo más para ejecutar tu tarea y evaluarla."
   ]
  },
  {
   "cell_type": "code",
   "execution_count": 1,
   "metadata": {
    "ExecuteTime": {
     "end_time": "2019-05-09T04:10:18.433955Z",
     "start_time": "2019-05-09T04:10:17.453068Z"
    }
   },
   "outputs": [
    {
     "data": {
      "text/plain": [
       "RendererRegistry.enable('notebook')"
      ]
     },
     "execution_count": 1,
     "metadata": {},
     "output_type": "execute_result"
    }
   ],
   "source": [
    "import pandas as pd\n",
    "import matplotlib.pyplot as plt\n",
    "import datetime\n",
    "import altair as alt\n",
    "\n",
    "# for the notebook only (not for JupyterLab) run this command once per session\n",
    "alt.renderers.enable('notebook')\n"
   ]
  },
  {
   "cell_type": "markdown",
   "metadata": {},
   "source": [
    "## Cargar datos"
   ]
  },
  {
   "cell_type": "code",
   "execution_count": 2,
   "metadata": {
    "ExecuteTime": {
     "end_time": "2019-05-09T04:10:18.497968Z",
     "start_time": "2019-05-09T04:10:18.438182Z"
    }
   },
   "outputs": [
    {
     "data": {
      "text/html": [
       "<div>\n",
       "<style scoped>\n",
       "    .dataframe tbody tr th:only-of-type {\n",
       "        vertical-align: middle;\n",
       "    }\n",
       "\n",
       "    .dataframe tbody tr th {\n",
       "        vertical-align: top;\n",
       "    }\n",
       "\n",
       "    .dataframe thead th {\n",
       "        text-align: right;\n",
       "    }\n",
       "</style>\n",
       "<table border=\"1\" class=\"dataframe\">\n",
       "  <thead>\n",
       "    <tr style=\"text-align: right;\">\n",
       "      <th></th>\n",
       "      <th>id</th>\n",
       "      <th>fecha_siniestro</th>\n",
       "      <th>tipo_automovil</th>\n",
       "      <th>marca</th>\n",
       "      <th>modelo</th>\n",
       "      <th>lng</th>\n",
       "      <th>lat</th>\n",
       "    </tr>\n",
       "  </thead>\n",
       "  <tbody>\n",
       "    <tr>\n",
       "      <th>0</th>\n",
       "      <td>31157</td>\n",
       "      <td>30-12-2010 0:00</td>\n",
       "      <td>TODO TERRENO</td>\n",
       "      <td>SSANGYONG</td>\n",
       "      <td>ACTYON XDI 4X2 (AY210)</td>\n",
       "      <td>-58.4198526</td>\n",
       "      <td>-34.581720</td>\n",
       "    </tr>\n",
       "    <tr>\n",
       "      <th>1</th>\n",
       "      <td>31158</td>\n",
       "      <td>6/10/10 00:00</td>\n",
       "      <td>TODO TERRENO</td>\n",
       "      <td>SUZUKI</td>\n",
       "      <td>GRAND VITARA 1.6 GLX AC</td>\n",
       "      <td>-74.6876127</td>\n",
       "      <td>-14.359001</td>\n",
       "    </tr>\n",
       "    <tr>\n",
       "      <th>2</th>\n",
       "      <td>31162</td>\n",
       "      <td>4/1/11 00:00</td>\n",
       "      <td>AUTOMOVIL</td>\n",
       "      <td>SUZUKI</td>\n",
       "      <td>SX4 1.6 CROSSOVER</td>\n",
       "      <td>-78.4711238</td>\n",
       "      <td>-0.293894</td>\n",
       "    </tr>\n",
       "    <tr>\n",
       "      <th>3</th>\n",
       "      <td>31165</td>\n",
       "      <td>5/1/11 00:00</td>\n",
       "      <td>AUTOMOVIL</td>\n",
       "      <td>CHEVROLET</td>\n",
       "      <td>OPTRA II LS NB 1.6 MT AC</td>\n",
       "      <td>-70.5918986</td>\n",
       "      <td>-33.567042</td>\n",
       "    </tr>\n",
       "    <tr>\n",
       "      <th>4</th>\n",
       "      <td>31168</td>\n",
       "      <td>6/1/11 00:00</td>\n",
       "      <td>AUTOMOVIL</td>\n",
       "      <td>HYUNDAI</td>\n",
       "      <td>ACCENT 1.3 L</td>\n",
       "      <td>-70.6285939</td>\n",
       "      <td>-33.452673</td>\n",
       "    </tr>\n",
       "  </tbody>\n",
       "</table>\n",
       "</div>"
      ],
      "text/plain": [
       "      id  fecha_siniestro tipo_automovil      marca                    modelo  \\\n",
       "0  31157  30-12-2010 0:00   TODO TERRENO  SSANGYONG    ACTYON XDI 4X2 (AY210)   \n",
       "1  31158    6/10/10 00:00   TODO TERRENO     SUZUKI   GRAND VITARA 1.6 GLX AC   \n",
       "2  31162     4/1/11 00:00      AUTOMOVIL     SUZUKI         SX4 1.6 CROSSOVER   \n",
       "3  31165     5/1/11 00:00      AUTOMOVIL  CHEVROLET  OPTRA II LS NB 1.6 MT AC   \n",
       "4  31168     6/1/11 00:00      AUTOMOVIL    HYUNDAI              ACCENT 1.3 L   \n",
       "\n",
       "           lng        lat  \n",
       "0  -58.4198526 -34.581720  \n",
       "1  -74.6876127 -14.359001  \n",
       "2  -78.4711238  -0.293894  \n",
       "3  -70.5918986 -33.567042  \n",
       "4  -70.6285939 -33.452673  "
      ]
     },
     "execution_count": 2,
     "metadata": {},
     "output_type": "execute_result"
    }
   ],
   "source": [
    "df = pd.read_csv(\"../dataset/data-iic1005-2019.csv\")\n",
    "df.head()"
   ]
  },
  {
   "cell_type": "markdown",
   "metadata": {},
   "source": [
    "## Estandarizar fechas"
   ]
  },
  {
   "cell_type": "code",
   "execution_count": 3,
   "metadata": {
    "ExecuteTime": {
     "end_time": "2019-05-09T04:10:18.515984Z",
     "start_time": "2019-05-09T04:10:18.510323Z"
    }
   },
   "outputs": [],
   "source": [
    "df_copy = df.copy(deep=True)"
   ]
  },
  {
   "cell_type": "markdown",
   "metadata": {},
   "source": [
    "### Forma incorrecta (notar diferencia de la segunda fila con la de la segunda fila de la forma correcta)"
   ]
  },
  {
   "cell_type": "code",
   "execution_count": 4,
   "metadata": {
    "ExecuteTime": {
     "end_time": "2019-05-09T04:10:18.820173Z",
     "start_time": "2019-05-09T04:10:18.521774Z"
    }
   },
   "outputs": [
    {
     "data": {
      "text/html": [
       "<div>\n",
       "<style scoped>\n",
       "    .dataframe tbody tr th:only-of-type {\n",
       "        vertical-align: middle;\n",
       "    }\n",
       "\n",
       "    .dataframe tbody tr th {\n",
       "        vertical-align: top;\n",
       "    }\n",
       "\n",
       "    .dataframe thead th {\n",
       "        text-align: right;\n",
       "    }\n",
       "</style>\n",
       "<table border=\"1\" class=\"dataframe\">\n",
       "  <thead>\n",
       "    <tr style=\"text-align: right;\">\n",
       "      <th></th>\n",
       "      <th>id</th>\n",
       "      <th>fecha_siniestro</th>\n",
       "      <th>tipo_automovil</th>\n",
       "      <th>marca</th>\n",
       "      <th>modelo</th>\n",
       "      <th>lng</th>\n",
       "      <th>lat</th>\n",
       "    </tr>\n",
       "  </thead>\n",
       "  <tbody>\n",
       "    <tr>\n",
       "      <th>0</th>\n",
       "      <td>31157</td>\n",
       "      <td>30-12-2010 00:00</td>\n",
       "      <td>TODO TERRENO</td>\n",
       "      <td>SSANGYONG</td>\n",
       "      <td>ACTYON XDI 4X2 (AY210)</td>\n",
       "      <td>-58.4198526</td>\n",
       "      <td>-34.581720</td>\n",
       "    </tr>\n",
       "    <tr>\n",
       "      <th>1</th>\n",
       "      <td>31158</td>\n",
       "      <td>10-06-2010 00:00</td>\n",
       "      <td>TODO TERRENO</td>\n",
       "      <td>SUZUKI</td>\n",
       "      <td>GRAND VITARA 1.6 GLX AC</td>\n",
       "      <td>-74.6876127</td>\n",
       "      <td>-14.359001</td>\n",
       "    </tr>\n",
       "    <tr>\n",
       "      <th>2</th>\n",
       "      <td>31162</td>\n",
       "      <td>01-04-2011 00:00</td>\n",
       "      <td>AUTOMOVIL</td>\n",
       "      <td>SUZUKI</td>\n",
       "      <td>SX4 1.6 CROSSOVER</td>\n",
       "      <td>-78.4711238</td>\n",
       "      <td>-0.293894</td>\n",
       "    </tr>\n",
       "    <tr>\n",
       "      <th>3</th>\n",
       "      <td>31165</td>\n",
       "      <td>01-05-2011 00:00</td>\n",
       "      <td>AUTOMOVIL</td>\n",
       "      <td>CHEVROLET</td>\n",
       "      <td>OPTRA II LS NB 1.6 MT AC</td>\n",
       "      <td>-70.5918986</td>\n",
       "      <td>-33.567042</td>\n",
       "    </tr>\n",
       "    <tr>\n",
       "      <th>4</th>\n",
       "      <td>31168</td>\n",
       "      <td>01-06-2011 00:00</td>\n",
       "      <td>AUTOMOVIL</td>\n",
       "      <td>HYUNDAI</td>\n",
       "      <td>ACCENT 1.3 L</td>\n",
       "      <td>-70.6285939</td>\n",
       "      <td>-33.452673</td>\n",
       "    </tr>\n",
       "  </tbody>\n",
       "</table>\n",
       "</div>"
      ],
      "text/plain": [
       "      id   fecha_siniestro tipo_automovil      marca  \\\n",
       "0  31157  30-12-2010 00:00   TODO TERRENO  SSANGYONG   \n",
       "1  31158  10-06-2010 00:00   TODO TERRENO     SUZUKI   \n",
       "2  31162  01-04-2011 00:00      AUTOMOVIL     SUZUKI   \n",
       "3  31165  01-05-2011 00:00      AUTOMOVIL  CHEVROLET   \n",
       "4  31168  01-06-2011 00:00      AUTOMOVIL    HYUNDAI   \n",
       "\n",
       "                     modelo          lng        lat  \n",
       "0    ACTYON XDI 4X2 (AY210)  -58.4198526 -34.581720  \n",
       "1   GRAND VITARA 1.6 GLX AC  -74.6876127 -14.359001  \n",
       "2         SX4 1.6 CROSSOVER  -78.4711238  -0.293894  \n",
       "3  OPTRA II LS NB 1.6 MT AC  -70.5918986 -33.567042  \n",
       "4              ACCENT 1.3 L  -70.6285939 -33.452673  "
      ]
     },
     "execution_count": 4,
     "metadata": {},
     "output_type": "execute_result"
    }
   ],
   "source": [
    "df_copy[\"fecha_siniestro\"] = pd.to_datetime(df_copy[\"fecha_siniestro\"])\n",
    "df_copy[\"fecha_siniestro\"] = df_copy[\"fecha_siniestro\"].dt.strftime(\"%d-%m-%Y %H:%M\")\n",
    "df_copy.head()"
   ]
  },
  {
   "cell_type": "markdown",
   "metadata": {},
   "source": [
    "### Forma correcta"
   ]
  },
  {
   "cell_type": "code",
   "execution_count": 5,
   "metadata": {
    "ExecuteTime": {
     "end_time": "2019-05-09T04:10:19.215061Z",
     "start_time": "2019-05-09T04:10:18.824983Z"
    }
   },
   "outputs": [
    {
     "data": {
      "text/html": [
       "<div>\n",
       "<style scoped>\n",
       "    .dataframe tbody tr th:only-of-type {\n",
       "        vertical-align: middle;\n",
       "    }\n",
       "\n",
       "    .dataframe tbody tr th {\n",
       "        vertical-align: top;\n",
       "    }\n",
       "\n",
       "    .dataframe thead th {\n",
       "        text-align: right;\n",
       "    }\n",
       "</style>\n",
       "<table border=\"1\" class=\"dataframe\">\n",
       "  <thead>\n",
       "    <tr style=\"text-align: right;\">\n",
       "      <th></th>\n",
       "      <th>id</th>\n",
       "      <th>fecha_siniestro</th>\n",
       "      <th>tipo_automovil</th>\n",
       "      <th>marca</th>\n",
       "      <th>modelo</th>\n",
       "      <th>lng</th>\n",
       "      <th>lat</th>\n",
       "    </tr>\n",
       "  </thead>\n",
       "  <tbody>\n",
       "    <tr>\n",
       "      <th>0</th>\n",
       "      <td>31157</td>\n",
       "      <td>30-12-2010 00:00</td>\n",
       "      <td>TODO TERRENO</td>\n",
       "      <td>SSANGYONG</td>\n",
       "      <td>ACTYON XDI 4X2 (AY210)</td>\n",
       "      <td>-58.4198526</td>\n",
       "      <td>-34.581720</td>\n",
       "    </tr>\n",
       "    <tr>\n",
       "      <th>1</th>\n",
       "      <td>31158</td>\n",
       "      <td>06-10-2010 00:00</td>\n",
       "      <td>TODO TERRENO</td>\n",
       "      <td>SUZUKI</td>\n",
       "      <td>GRAND VITARA 1.6 GLX AC</td>\n",
       "      <td>-74.6876127</td>\n",
       "      <td>-14.359001</td>\n",
       "    </tr>\n",
       "    <tr>\n",
       "      <th>2</th>\n",
       "      <td>31162</td>\n",
       "      <td>04-01-2011 00:00</td>\n",
       "      <td>AUTOMOVIL</td>\n",
       "      <td>SUZUKI</td>\n",
       "      <td>SX4 1.6 CROSSOVER</td>\n",
       "      <td>-78.4711238</td>\n",
       "      <td>-0.293894</td>\n",
       "    </tr>\n",
       "    <tr>\n",
       "      <th>3</th>\n",
       "      <td>31165</td>\n",
       "      <td>05-01-2011 00:00</td>\n",
       "      <td>AUTOMOVIL</td>\n",
       "      <td>CHEVROLET</td>\n",
       "      <td>OPTRA II LS NB 1.6 MT AC</td>\n",
       "      <td>-70.5918986</td>\n",
       "      <td>-33.567042</td>\n",
       "    </tr>\n",
       "    <tr>\n",
       "      <th>4</th>\n",
       "      <td>31168</td>\n",
       "      <td>06-01-2011 00:00</td>\n",
       "      <td>AUTOMOVIL</td>\n",
       "      <td>HYUNDAI</td>\n",
       "      <td>ACCENT 1.3 L</td>\n",
       "      <td>-70.6285939</td>\n",
       "      <td>-33.452673</td>\n",
       "    </tr>\n",
       "  </tbody>\n",
       "</table>\n",
       "</div>"
      ],
      "text/plain": [
       "      id   fecha_siniestro tipo_automovil      marca  \\\n",
       "0  31157  30-12-2010 00:00   TODO TERRENO  SSANGYONG   \n",
       "1  31158  06-10-2010 00:00   TODO TERRENO     SUZUKI   \n",
       "2  31162  04-01-2011 00:00      AUTOMOVIL     SUZUKI   \n",
       "3  31165  05-01-2011 00:00      AUTOMOVIL  CHEVROLET   \n",
       "4  31168  06-01-2011 00:00      AUTOMOVIL    HYUNDAI   \n",
       "\n",
       "                     modelo          lng        lat  \n",
       "0    ACTYON XDI 4X2 (AY210)  -58.4198526 -34.581720  \n",
       "1   GRAND VITARA 1.6 GLX AC  -74.6876127 -14.359001  \n",
       "2         SX4 1.6 CROSSOVER  -78.4711238  -0.293894  \n",
       "3  OPTRA II LS NB 1.6 MT AC  -70.5918986 -33.567042  \n",
       "4              ACCENT 1.3 L  -70.6285939 -33.452673  "
      ]
     },
     "execution_count": 5,
     "metadata": {},
     "output_type": "execute_result"
    }
   ],
   "source": [
    "# Completar\n",
    "df[\"fecha_siniestro\"] = pd.to_datetime(df[\"fecha_siniestro\"], dayfirst=True)\n",
    "df[\"fecha_siniestro\"] = df[\"fecha_siniestro\"].dt.strftime(\"%d-%m-%Y %H:%M\")\n",
    "df.head()"
   ]
  },
  {
   "cell_type": "markdown",
   "metadata": {},
   "source": [
    "## Gráfico de línea sobre cantidad de robos según día de la semana"
   ]
  },
  {
   "cell_type": "code",
   "execution_count": 6,
   "metadata": {
    "ExecuteTime": {
     "end_time": "2019-05-09T04:10:19.255784Z",
     "start_time": "2019-05-09T04:10:19.222924Z"
    }
   },
   "outputs": [
    {
     "data": {
      "text/html": [
       "<div>\n",
       "<style scoped>\n",
       "    .dataframe tbody tr th:only-of-type {\n",
       "        vertical-align: middle;\n",
       "    }\n",
       "\n",
       "    .dataframe tbody tr th {\n",
       "        vertical-align: top;\n",
       "    }\n",
       "\n",
       "    .dataframe thead th {\n",
       "        text-align: right;\n",
       "    }\n",
       "</style>\n",
       "<table border=\"1\" class=\"dataframe\">\n",
       "  <thead>\n",
       "    <tr style=\"text-align: right;\">\n",
       "      <th></th>\n",
       "      <th>id</th>\n",
       "      <th>fecha_siniestro</th>\n",
       "      <th>tipo_automovil</th>\n",
       "      <th>marca</th>\n",
       "      <th>modelo</th>\n",
       "      <th>lng</th>\n",
       "      <th>lat</th>\n",
       "    </tr>\n",
       "  </thead>\n",
       "  <tbody>\n",
       "    <tr>\n",
       "      <th>0</th>\n",
       "      <td>31157</td>\n",
       "      <td>30-12-2010 00:00</td>\n",
       "      <td>TODO TERRENO</td>\n",
       "      <td>SSANGYONG</td>\n",
       "      <td>ACTYON XDI 4X2 (AY210)</td>\n",
       "      <td>-58.4198526</td>\n",
       "      <td>-34.581720</td>\n",
       "    </tr>\n",
       "    <tr>\n",
       "      <th>1</th>\n",
       "      <td>31158</td>\n",
       "      <td>06-10-2010 00:00</td>\n",
       "      <td>TODO TERRENO</td>\n",
       "      <td>SUZUKI</td>\n",
       "      <td>GRAND VITARA 1.6 GLX AC</td>\n",
       "      <td>-74.6876127</td>\n",
       "      <td>-14.359001</td>\n",
       "    </tr>\n",
       "    <tr>\n",
       "      <th>2</th>\n",
       "      <td>31162</td>\n",
       "      <td>04-01-2011 00:00</td>\n",
       "      <td>AUTOMOVIL</td>\n",
       "      <td>SUZUKI</td>\n",
       "      <td>SX4 1.6 CROSSOVER</td>\n",
       "      <td>-78.4711238</td>\n",
       "      <td>-0.293894</td>\n",
       "    </tr>\n",
       "    <tr>\n",
       "      <th>3</th>\n",
       "      <td>31165</td>\n",
       "      <td>05-01-2011 00:00</td>\n",
       "      <td>AUTOMOVIL</td>\n",
       "      <td>CHEVROLET</td>\n",
       "      <td>OPTRA II LS NB 1.6 MT AC</td>\n",
       "      <td>-70.5918986</td>\n",
       "      <td>-33.567042</td>\n",
       "    </tr>\n",
       "    <tr>\n",
       "      <th>4</th>\n",
       "      <td>31168</td>\n",
       "      <td>06-01-2011 00:00</td>\n",
       "      <td>AUTOMOVIL</td>\n",
       "      <td>HYUNDAI</td>\n",
       "      <td>ACCENT 1.3 L</td>\n",
       "      <td>-70.6285939</td>\n",
       "      <td>-33.452673</td>\n",
       "    </tr>\n",
       "  </tbody>\n",
       "</table>\n",
       "</div>"
      ],
      "text/plain": [
       "      id   fecha_siniestro tipo_automovil      marca  \\\n",
       "0  31157  30-12-2010 00:00   TODO TERRENO  SSANGYONG   \n",
       "1  31158  06-10-2010 00:00   TODO TERRENO     SUZUKI   \n",
       "2  31162  04-01-2011 00:00      AUTOMOVIL     SUZUKI   \n",
       "3  31165  05-01-2011 00:00      AUTOMOVIL  CHEVROLET   \n",
       "4  31168  06-01-2011 00:00      AUTOMOVIL    HYUNDAI   \n",
       "\n",
       "                     modelo          lng        lat  \n",
       "0    ACTYON XDI 4X2 (AY210)  -58.4198526 -34.581720  \n",
       "1   GRAND VITARA 1.6 GLX AC  -74.6876127 -14.359001  \n",
       "2         SX4 1.6 CROSSOVER  -78.4711238  -0.293894  \n",
       "3  OPTRA II LS NB 1.6 MT AC  -70.5918986 -33.567042  \n",
       "4              ACCENT 1.3 L  -70.6285939 -33.452673  "
      ]
     },
     "execution_count": 6,
     "metadata": {},
     "output_type": "execute_result"
    }
   ],
   "source": [
    "df.head()"
   ]
  },
  {
   "cell_type": "markdown",
   "metadata": {},
   "source": [
    "Antes de trabajar con las fechas, conviene ver el tipo de dato de la columna `fecha_siniestro`:"
   ]
  },
  {
   "cell_type": "code",
   "execution_count": 7,
   "metadata": {
    "ExecuteTime": {
     "end_time": "2019-05-09T04:10:19.280182Z",
     "start_time": "2019-05-09T04:10:19.263680Z"
    }
   },
   "outputs": [
    {
     "data": {
      "text/plain": [
       "id                   int64\n",
       "fecha_siniestro     object\n",
       "tipo_automovil      object\n",
       "marca               object\n",
       "modelo              object\n",
       "lng                 object\n",
       "lat                float64\n",
       "dtype: object"
      ]
     },
     "execution_count": 7,
     "metadata": {},
     "output_type": "execute_result"
    }
   ],
   "source": [
    "df.dtypes"
   ]
  },
  {
   "cell_type": "markdown",
   "metadata": {},
   "source": [
    "Vemos que es de tipo objeto, lo que nos impediría trabajar con la columna fácilmente. Por esta razón, la convertimos al tipo `datetime64[ns]`, usando el formato que ya sabemos que tienen las fechas ya convertidas en el ítem anterior."
   ]
  },
  {
   "cell_type": "code",
   "execution_count": 8,
   "metadata": {
    "ExecuteTime": {
     "end_time": "2019-05-09T04:10:19.327104Z",
     "start_time": "2019-05-09T04:10:19.297645Z"
    }
   },
   "outputs": [
    {
     "data": {
      "text/plain": [
       "id                          int64\n",
       "fecha_siniestro    datetime64[ns]\n",
       "tipo_automovil             object\n",
       "marca                      object\n",
       "modelo                     object\n",
       "lng                        object\n",
       "lat                       float64\n",
       "dtype: object"
      ]
     },
     "execution_count": 8,
     "metadata": {},
     "output_type": "execute_result"
    }
   ],
   "source": [
    "df[\"fecha_siniestro\"] =  pd.to_datetime(df[\"fecha_siniestro\"], format=\"%d-%m-%Y %H:%M\")\n",
    "df.dtypes"
   ]
  },
  {
   "cell_type": "code",
   "execution_count": 9,
   "metadata": {
    "ExecuteTime": {
     "end_time": "2019-05-09T04:10:19.364385Z",
     "start_time": "2019-05-09T04:10:19.329646Z"
    }
   },
   "outputs": [
    {
     "data": {
      "text/html": [
       "<div>\n",
       "<style scoped>\n",
       "    .dataframe tbody tr th:only-of-type {\n",
       "        vertical-align: middle;\n",
       "    }\n",
       "\n",
       "    .dataframe tbody tr th {\n",
       "        vertical-align: top;\n",
       "    }\n",
       "\n",
       "    .dataframe thead th {\n",
       "        text-align: right;\n",
       "    }\n",
       "</style>\n",
       "<table border=\"1\" class=\"dataframe\">\n",
       "  <thead>\n",
       "    <tr style=\"text-align: right;\">\n",
       "      <th></th>\n",
       "      <th>Day</th>\n",
       "      <th>Total</th>\n",
       "    </tr>\n",
       "  </thead>\n",
       "  <tbody>\n",
       "    <tr>\n",
       "      <th>0</th>\n",
       "      <td>Monday</td>\n",
       "      <td>225</td>\n",
       "    </tr>\n",
       "    <tr>\n",
       "      <th>1</th>\n",
       "      <td>Tuesday</td>\n",
       "      <td>247</td>\n",
       "    </tr>\n",
       "    <tr>\n",
       "      <th>2</th>\n",
       "      <td>Wednesday</td>\n",
       "      <td>254</td>\n",
       "    </tr>\n",
       "    <tr>\n",
       "      <th>3</th>\n",
       "      <td>Thursday</td>\n",
       "      <td>250</td>\n",
       "    </tr>\n",
       "    <tr>\n",
       "      <th>4</th>\n",
       "      <td>Friday</td>\n",
       "      <td>241</td>\n",
       "    </tr>\n",
       "  </tbody>\n",
       "</table>\n",
       "</div>"
      ],
      "text/plain": [
       "         Day  Total\n",
       "0     Monday    225\n",
       "1    Tuesday    247\n",
       "2  Wednesday    254\n",
       "3   Thursday    250\n",
       "4     Friday    241"
      ]
     },
     "execution_count": 9,
     "metadata": {},
     "output_type": "execute_result"
    }
   ],
   "source": [
    "# Completar\n",
    "days = [\"Monday\", \"Tuesday\", \"Wednesday\", \"Thursday\", \"Friday\", \"Saturday\", \"Sunday\"]\n",
    "week_df = df.groupby(df[\"fecha_siniestro\"].dt.strftime('%A')).count().reindex(days)[\"id\"].reset_index()\n",
    "week_df.columns = [\"Day\", \"Total\"]\n",
    "week_df.head()"
   ]
  },
  {
   "cell_type": "code",
   "execution_count": 10,
   "metadata": {
    "ExecuteTime": {
     "end_time": "2019-05-09T04:10:19.433461Z",
     "start_time": "2019-05-09T04:10:19.375195Z"
    }
   },
   "outputs": [
    {
     "data": {
      "application/javascript": [
       "var spec = {\"config\": {\"view\": {\"width\": 400, \"height\": 300}}, \"data\": {\"name\": \"data-05090c53e47b11b3f8b186f0cf590817\"}, \"mark\": \"line\", \"encoding\": {\"x\": {\"type\": \"nominal\", \"field\": \"Day\", \"title\": \"Day of week\"}, \"y\": {\"type\": \"quantitative\", \"field\": \"Total\", \"title\": \"Amount\"}}, \"title\": \"Robos por d\\u00eda de la semana\", \"$schema\": \"https://vega.github.io/schema/vega-lite/v2.6.0.json\", \"datasets\": {\"data-05090c53e47b11b3f8b186f0cf590817\": [{\"Day\": \"Monday\", \"Total\": 225}, {\"Day\": \"Tuesday\", \"Total\": 247}, {\"Day\": \"Wednesday\", \"Total\": 254}, {\"Day\": \"Thursday\", \"Total\": 250}, {\"Day\": \"Friday\", \"Total\": 241}, {\"Day\": \"Saturday\", \"Total\": 186}, {\"Day\": \"Sunday\", \"Total\": 155}]}};\n",
       "var opt = {};\n",
       "var type = \"vega-lite\";\n",
       "var id = \"c97cdf49-3519-411c-9c4f-6de9c51164e7\";\n",
       "\n",
       "var output_area = this;\n",
       "\n",
       "require([\"nbextensions/jupyter-vega/index\"], function(vega) {\n",
       "  var target = document.createElement(\"div\");\n",
       "  target.id = id;\n",
       "  target.className = \"vega-embed\";\n",
       "\n",
       "  var style = document.createElement(\"style\");\n",
       "  style.textContent = [\n",
       "    \".vega-embed .error p {\",\n",
       "    \"  color: firebrick;\",\n",
       "    \"  font-size: 14px;\",\n",
       "    \"}\",\n",
       "  ].join(\"\\\\n\");\n",
       "\n",
       "  // element is a jQuery wrapped DOM element inside the output area\n",
       "  // see http://ipython.readthedocs.io/en/stable/api/generated/\\\n",
       "  // IPython.display.html#IPython.display.Javascript.__init__\n",
       "  element[0].appendChild(target);\n",
       "  element[0].appendChild(style);\n",
       "\n",
       "  vega.render(\"#\" + id, spec, type, opt, output_area);\n",
       "}, function (err) {\n",
       "  if (err.requireType !== \"scripterror\") {\n",
       "    throw(err);\n",
       "  }\n",
       "});\n"
      ],
      "text/plain": [
       "<vega.vegalite.VegaLite at 0x11862add8>"
      ]
     },
     "metadata": {
      "jupyter-vega": "#c97cdf49-3519-411c-9c4f-6de9c51164e7"
     },
     "output_type": "display_data"
    },
    {
     "data": {
      "text/plain": []
     },
     "execution_count": 10,
     "metadata": {},
     "output_type": "execute_result"
    },
    {
     "data": {
      "image/png": "[encoded data removed]"
     },
     "metadata": {
      "jupyter-vega": "#c97cdf49-3519-411c-9c4f-6de9c51164e7"
     },
     "output_type": "display_data"
    }
   ],
   "source": [
    "week_chart = alt.Chart(week_df).mark_line().encode(\n",
    "    x='Day',\n",
    "    y='Total'\n",
    ").properties(\n",
    "    title='Robos por día de la semana')\n",
    "week_chart.encoding.y.title = \"Amount\"\n",
    "week_chart.encoding.x.title = \"Day of week\"\n",
    "week_chart"
   ]
  },
  {
   "cell_type": "markdown",
   "metadata": {},
   "source": [
    "## Gráfico de barra mes versus cantidad de robos"
   ]
  },
  {
   "cell_type": "code",
   "execution_count": 11,
   "metadata": {
    "ExecuteTime": {
     "end_time": "2019-05-09T04:10:19.481899Z",
     "start_time": "2019-05-09T04:10:19.440324Z"
    }
   },
   "outputs": [
    {
     "data": {
      "text/html": [
       "<div>\n",
       "<style scoped>\n",
       "    .dataframe tbody tr th:only-of-type {\n",
       "        vertical-align: middle;\n",
       "    }\n",
       "\n",
       "    .dataframe tbody tr th {\n",
       "        vertical-align: top;\n",
       "    }\n",
       "\n",
       "    .dataframe thead th {\n",
       "        text-align: right;\n",
       "    }\n",
       "</style>\n",
       "<table border=\"1\" class=\"dataframe\">\n",
       "  <thead>\n",
       "    <tr style=\"text-align: right;\">\n",
       "      <th></th>\n",
       "      <th>Month</th>\n",
       "      <th>Total</th>\n",
       "    </tr>\n",
       "  </thead>\n",
       "  <tbody>\n",
       "    <tr>\n",
       "      <th>0</th>\n",
       "      <td>January</td>\n",
       "      <td>263.0</td>\n",
       "    </tr>\n",
       "    <tr>\n",
       "      <th>1</th>\n",
       "      <td>February</td>\n",
       "      <td>240.0</td>\n",
       "    </tr>\n",
       "    <tr>\n",
       "      <th>2</th>\n",
       "      <td>March</td>\n",
       "      <td>324.0</td>\n",
       "    </tr>\n",
       "    <tr>\n",
       "      <th>3</th>\n",
       "      <td>April</td>\n",
       "      <td>293.0</td>\n",
       "    </tr>\n",
       "    <tr>\n",
       "      <th>4</th>\n",
       "      <td>May</td>\n",
       "      <td>411.0</td>\n",
       "    </tr>\n",
       "    <tr>\n",
       "      <th>5</th>\n",
       "      <td>June</td>\n",
       "      <td>23.0</td>\n",
       "    </tr>\n",
       "    <tr>\n",
       "      <th>6</th>\n",
       "      <td>July</td>\n",
       "      <td>1.0</td>\n",
       "    </tr>\n",
       "    <tr>\n",
       "      <th>7</th>\n",
       "      <td>August</td>\n",
       "      <td>NaN</td>\n",
       "    </tr>\n",
       "    <tr>\n",
       "      <th>8</th>\n",
       "      <td>September</td>\n",
       "      <td>NaN</td>\n",
       "    </tr>\n",
       "    <tr>\n",
       "      <th>9</th>\n",
       "      <td>October</td>\n",
       "      <td>1.0</td>\n",
       "    </tr>\n",
       "    <tr>\n",
       "      <th>10</th>\n",
       "      <td>November</td>\n",
       "      <td>NaN</td>\n",
       "    </tr>\n",
       "    <tr>\n",
       "      <th>11</th>\n",
       "      <td>December</td>\n",
       "      <td>2.0</td>\n",
       "    </tr>\n",
       "  </tbody>\n",
       "</table>\n",
       "</div>"
      ],
      "text/plain": [
       "        Month  Total\n",
       "0     January  263.0\n",
       "1    February  240.0\n",
       "2       March  324.0\n",
       "3       April  293.0\n",
       "4         May  411.0\n",
       "5        June   23.0\n",
       "6        July    1.0\n",
       "7      August    NaN\n",
       "8   September    NaN\n",
       "9     October    1.0\n",
       "10   November    NaN\n",
       "11   December    2.0"
      ]
     },
     "execution_count": 11,
     "metadata": {},
     "output_type": "execute_result"
    }
   ],
   "source": [
    "# Completar\n",
    "months = [\"January\",\"February\",\"March\",\"April\",\"May\",\"June\",\"July\",\n",
    "            \"August\",\"September\",\"October\",\"November\",\"December\"]\n",
    "month_df = df.groupby(df[\"fecha_siniestro\"].dt.month_name()).count().reindex(months)[\"id\"].reset_index()\n",
    "month_df.columns = [\"Month\", \"Total\"]\n",
    "month_df"
   ]
  },
  {
   "cell_type": "code",
   "execution_count": 12,
   "metadata": {
    "ExecuteTime": {
     "end_time": "2019-05-09T04:10:19.532894Z",
     "start_time": "2019-05-09T04:10:19.489797Z"
    }
   },
   "outputs": [
    {
     "data": {
      "application/javascript": [
       "var spec = {\"config\": {\"view\": {\"width\": 400, \"height\": 300}}, \"data\": {\"name\": \"data-e7863d1f8b077ca42ef3a33015862564\"}, \"mark\": \"bar\", \"encoding\": {\"color\": {\"type\": \"nominal\", \"field\": \"Month\"}, \"x\": {\"type\": \"quantitative\", \"field\": \"Total\", \"title\": \"Amount\"}, \"y\": {\"type\": \"nominal\", \"field\": \"Month\", \"title\": \"Month\"}}, \"title\": \"Robos por mes del a\\u00f1o\", \"$schema\": \"https://vega.github.io/schema/vega-lite/v2.6.0.json\", \"datasets\": {\"data-e7863d1f8b077ca42ef3a33015862564\": [{\"Month\": \"January\", \"Total\": 263.0}, {\"Month\": \"February\", \"Total\": 240.0}, {\"Month\": \"March\", \"Total\": 324.0}, {\"Month\": \"April\", \"Total\": 293.0}, {\"Month\": \"May\", \"Total\": 411.0}, {\"Month\": \"June\", \"Total\": 23.0}, {\"Month\": \"July\", \"Total\": 1.0}, {\"Month\": \"August\", \"Total\": null}, {\"Month\": \"September\", \"Total\": null}, {\"Month\": \"October\", \"Total\": 1.0}, {\"Month\": \"November\", \"Total\": null}, {\"Month\": \"December\", \"Total\": 2.0}]}};\n",
       "var opt = {};\n",
       "var type = \"vega-lite\";\n",
       "var id = \"b3190acc-b41a-4780-96d2-9e91d48283d3\";\n",
       "\n",
       "var output_area = this;\n",
       "\n",
       "require([\"nbextensions/jupyter-vega/index\"], function(vega) {\n",
       "  var target = document.createElement(\"div\");\n",
       "  target.id = id;\n",
       "  target.className = \"vega-embed\";\n",
       "\n",
       "  var style = document.createElement(\"style\");\n",
       "  style.textContent = [\n",
       "    \".vega-embed .error p {\",\n",
       "    \"  color: firebrick;\",\n",
       "    \"  font-size: 14px;\",\n",
       "    \"}\",\n",
       "  ].join(\"\\\\n\");\n",
       "\n",
       "  // element is a jQuery wrapped DOM element inside the output area\n",
       "  // see http://ipython.readthedocs.io/en/stable/api/generated/\\\n",
       "  // IPython.display.html#IPython.display.Javascript.__init__\n",
       "  element[0].appendChild(target);\n",
       "  element[0].appendChild(style);\n",
       "\n",
       "  vega.render(\"#\" + id, spec, type, opt, output_area);\n",
       "}, function (err) {\n",
       "  if (err.requireType !== \"scripterror\") {\n",
       "    throw(err);\n",
       "  }\n",
       "});\n"
      ],
      "text/plain": [
       "<vega.vegalite.VegaLite at 0x11862a080>"
      ]
     },
     "metadata": {
      "jupyter-vega": "#b3190acc-b41a-4780-96d2-9e91d48283d3"
     },
     "output_type": "display_data"
    },
    {
     "data": {
      "text/plain": []
     },
     "execution_count": 12,
     "metadata": {},
     "output_type": "execute_result"
    },
    {
     "data": {
      "image/png": "[encoded data removed]"
     },
     "metadata": {
      "jupyter-vega": "#b3190acc-b41a-4780-96d2-9e91d48283d3"
     },
     "output_type": "display_data"
    }
   ],
   "source": [
    "month_chart = alt.Chart(month_df).mark_bar().encode(\n",
    "    y=\"Month\",\n",
    "    x=\"Total\",\n",
    "    color=\"Month\"\n",
    ").properties(\n",
    "    title='Robos por mes del año')\n",
    "month_chart.encoding.x.title = \"Amount\"\n",
    "month_chart.encoding.y.title = \"Month\"\n",
    "month_chart"
   ]
  },
  {
   "cell_type": "markdown",
   "metadata": {},
   "source": [
    "## Gráficos de torta de marcas y tipos más robados"
   ]
  },
  {
   "cell_type": "code",
   "execution_count": 13,
   "metadata": {
    "ExecuteTime": {
     "end_time": "2019-05-09T04:10:19.559444Z",
     "start_time": "2019-05-09T04:10:19.537136Z"
    }
   },
   "outputs": [
    {
     "data": {
      "text/html": [
       "<div>\n",
       "<style scoped>\n",
       "    .dataframe tbody tr th:only-of-type {\n",
       "        vertical-align: middle;\n",
       "    }\n",
       "\n",
       "    .dataframe tbody tr th {\n",
       "        vertical-align: top;\n",
       "    }\n",
       "\n",
       "    .dataframe thead th {\n",
       "        text-align: right;\n",
       "    }\n",
       "</style>\n",
       "<table border=\"1\" class=\"dataframe\">\n",
       "  <thead>\n",
       "    <tr style=\"text-align: right;\">\n",
       "      <th></th>\n",
       "      <th>Tipo Automóvil</th>\n",
       "      <th>Total</th>\n",
       "    </tr>\n",
       "  </thead>\n",
       "  <tbody>\n",
       "    <tr>\n",
       "      <th>0</th>\n",
       "      <td>AUTOMOVIL</td>\n",
       "      <td>801</td>\n",
       "    </tr>\n",
       "    <tr>\n",
       "      <th>1</th>\n",
       "      <td>CAMIONETA</td>\n",
       "      <td>313</td>\n",
       "    </tr>\n",
       "    <tr>\n",
       "      <th>2</th>\n",
       "      <td>STATION WAGON</td>\n",
       "      <td>232</td>\n",
       "    </tr>\n",
       "    <tr>\n",
       "      <th>3</th>\n",
       "      <td>TODO TERRENO</td>\n",
       "      <td>110</td>\n",
       "    </tr>\n",
       "    <tr>\n",
       "      <th>4</th>\n",
       "      <td>FURGON</td>\n",
       "      <td>44</td>\n",
       "    </tr>\n",
       "  </tbody>\n",
       "</table>\n",
       "</div>"
      ],
      "text/plain": [
       "  Tipo Automóvil  Total\n",
       "0      AUTOMOVIL    801\n",
       "1      CAMIONETA    313\n",
       "2  STATION WAGON    232\n",
       "3   TODO TERRENO    110\n",
       "4         FURGON     44"
      ]
     },
     "execution_count": 13,
     "metadata": {},
     "output_type": "execute_result"
    }
   ],
   "source": [
    "# Completar\n",
    "types_df = df[\"tipo_automovil\"].value_counts().reset_index()\n",
    "types_df = types_df.sort_values(\"tipo_automovil\", ascending=False)\n",
    "types_df.columns = [\"Tipo Automóvil\", \"Total\"]\n",
    "top_types_df = types_df.iloc[0:5]\n",
    "top_types_df"
   ]
  },
  {
   "cell_type": "code",
   "execution_count": 14,
   "metadata": {
    "ExecuteTime": {
     "end_time": "2019-05-09T04:10:19.587361Z",
     "start_time": "2019-05-09T04:10:19.563459Z"
    }
   },
   "outputs": [
    {
     "data": {
      "application/javascript": [
       "var spec = {\"config\": {\"view\": {\"width\": 400, \"height\": 300}}, \"data\": {\"name\": \"data-614db04c7a6c4281990835d6401ce5ef\"}, \"mark\": \"bar\", \"encoding\": {\"color\": {\"type\": \"nominal\", \"field\": \"Tipo Autom\\u00f3vil\"}, \"x\": {\"type\": \"nominal\", \"field\": \"Tipo Autom\\u00f3vil\", \"title\": \"Tipo Autom\\u00f3vil\"}, \"y\": {\"type\": \"quantitative\", \"field\": \"Total\", \"title\": \"Cantidad\"}}, \"title\": \"Tipos de autom\\u00f3viles m\\u00e1s robados\", \"$schema\": \"https://vega.github.io/schema/vega-lite/v2.6.0.json\", \"datasets\": {\"data-614db04c7a6c4281990835d6401ce5ef\": [{\"Tipo Autom\\u00f3vil\": \"AUTOMOVIL\", \"Total\": 801}, {\"Tipo Autom\\u00f3vil\": \"CAMIONETA\", \"Total\": 313}, {\"Tipo Autom\\u00f3vil\": \"STATION WAGON\", \"Total\": 232}, {\"Tipo Autom\\u00f3vil\": \"TODO TERRENO\", \"Total\": 110}, {\"Tipo Autom\\u00f3vil\": \"FURGON\", \"Total\": 44}]}};\n",
       "var opt = {};\n",
       "var type = \"vega-lite\";\n",
       "var id = \"c0b1f415-004e-437d-ae5a-82c9b08d9b4e\";\n",
       "\n",
       "var output_area = this;\n",
       "\n",
       "require([\"nbextensions/jupyter-vega/index\"], function(vega) {\n",
       "  var target = document.createElement(\"div\");\n",
       "  target.id = id;\n",
       "  target.className = \"vega-embed\";\n",
       "\n",
       "  var style = document.createElement(\"style\");\n",
       "  style.textContent = [\n",
       "    \".vega-embed .error p {\",\n",
       "    \"  color: firebrick;\",\n",
       "    \"  font-size: 14px;\",\n",
       "    \"}\",\n",
       "  ].join(\"\\\\n\");\n",
       "\n",
       "  // element is a jQuery wrapped DOM element inside the output area\n",
       "  // see http://ipython.readthedocs.io/en/stable/api/generated/\\\n",
       "  // IPython.display.html#IPython.display.Javascript.__init__\n",
       "  element[0].appendChild(target);\n",
       "  element[0].appendChild(style);\n",
       "\n",
       "  vega.render(\"#\" + id, spec, type, opt, output_area);\n",
       "}, function (err) {\n",
       "  if (err.requireType !== \"scripterror\") {\n",
       "    throw(err);\n",
       "  }\n",
       "});\n"
      ],
      "text/plain": [
       "<vega.vegalite.VegaLite at 0x10e6bce10>"
      ]
     },
     "metadata": {
      "jupyter-vega": "#c0b1f415-004e-437d-ae5a-82c9b08d9b4e"
     },
     "output_type": "display_data"
    },
    {
     "data": {
      "text/plain": []
     },
     "execution_count": 14,
     "metadata": {},
     "output_type": "execute_result"
    },
    {
     "data": {
      "image/png": "[encoded data removed]"
     },
     "metadata": {
      "jupyter-vega": "#c0b1f415-004e-437d-ae5a-82c9b08d9b4e"
     },
     "output_type": "display_data"
    }
   ],
   "source": [
    "top_types_chart = alt.Chart(top_types_df).mark_bar().encode(\n",
    "    x=\"Tipo Automóvil\",\n",
    "    y=\"Total\",\n",
    "    color=\"Tipo Automóvil\"\n",
    ").properties(\n",
    "    title='Tipos de automóviles más robados')\n",
    "top_types_chart.encoding.x.title = \"Tipo Automóvil\"\n",
    "top_types_chart.encoding.y.title = \"Cantidad\"\n",
    "top_types_chart"
   ]
  },
  {
   "cell_type": "code",
   "execution_count": 15,
   "metadata": {
    "ExecuteTime": {
     "end_time": "2019-05-09T04:10:19.617166Z",
     "start_time": "2019-05-09T04:10:19.593737Z"
    }
   },
   "outputs": [
    {
     "data": {
      "text/html": [
       "<div>\n",
       "<style scoped>\n",
       "    .dataframe tbody tr th:only-of-type {\n",
       "        vertical-align: middle;\n",
       "    }\n",
       "\n",
       "    .dataframe tbody tr th {\n",
       "        vertical-align: top;\n",
       "    }\n",
       "\n",
       "    .dataframe thead th {\n",
       "        text-align: right;\n",
       "    }\n",
       "</style>\n",
       "<table border=\"1\" class=\"dataframe\">\n",
       "  <thead>\n",
       "    <tr style=\"text-align: right;\">\n",
       "      <th></th>\n",
       "      <th>Marca</th>\n",
       "      <th>Total</th>\n",
       "    </tr>\n",
       "  </thead>\n",
       "  <tbody>\n",
       "    <tr>\n",
       "      <th>0</th>\n",
       "      <td>TOYOTA</td>\n",
       "      <td>371</td>\n",
       "    </tr>\n",
       "    <tr>\n",
       "      <th>1</th>\n",
       "      <td>SUZUKI</td>\n",
       "      <td>285</td>\n",
       "    </tr>\n",
       "    <tr>\n",
       "      <th>2</th>\n",
       "      <td>NISSAN</td>\n",
       "      <td>187</td>\n",
       "    </tr>\n",
       "    <tr>\n",
       "      <th>3</th>\n",
       "      <td>HYUNDAI</td>\n",
       "      <td>164</td>\n",
       "    </tr>\n",
       "    <tr>\n",
       "      <th>4</th>\n",
       "      <td>CHEVROLET</td>\n",
       "      <td>128</td>\n",
       "    </tr>\n",
       "  </tbody>\n",
       "</table>\n",
       "</div>"
      ],
      "text/plain": [
       "       Marca  Total\n",
       "0     TOYOTA    371\n",
       "1     SUZUKI    285\n",
       "2     NISSAN    187\n",
       "3    HYUNDAI    164\n",
       "4  CHEVROLET    128"
      ]
     },
     "execution_count": 15,
     "metadata": {},
     "output_type": "execute_result"
    }
   ],
   "source": [
    "brands_df = df[\"marca\"].value_counts().reset_index()\n",
    "brands_df = brands_df.sort_values(\"marca\", ascending=False)\n",
    "brands_df.columns = [\"Marca\", \"Total\"]\n",
    "top_brands_df = brands_df.iloc[0:5]\n",
    "top_brands_df"
   ]
  },
  {
   "cell_type": "code",
   "execution_count": 16,
   "metadata": {
    "ExecuteTime": {
     "end_time": "2019-05-09T04:10:19.647919Z",
     "start_time": "2019-05-09T04:10:19.621193Z"
    }
   },
   "outputs": [
    {
     "data": {
      "application/javascript": [
       "var spec = {\"config\": {\"view\": {\"width\": 400, \"height\": 300}}, \"data\": {\"name\": \"data-bd3fb626b6cf8e92385822516d7ec172\"}, \"mark\": \"bar\", \"encoding\": {\"color\": {\"type\": \"nominal\", \"field\": \"Marca\"}, \"x\": {\"type\": \"nominal\", \"field\": \"Marca\", \"title\": \"Marca\"}, \"y\": {\"type\": \"quantitative\", \"field\": \"Total\", \"title\": \"Cantidad\"}}, \"title\": \"Marca de autom\\u00f3viles m\\u00e1s robados\", \"$schema\": \"https://vega.github.io/schema/vega-lite/v2.6.0.json\", \"datasets\": {\"data-bd3fb626b6cf8e92385822516d7ec172\": [{\"Marca\": \"TOYOTA\", \"Total\": 371}, {\"Marca\": \"SUZUKI\", \"Total\": 285}, {\"Marca\": \"NISSAN\", \"Total\": 187}, {\"Marca\": \"HYUNDAI\", \"Total\": 164}, {\"Marca\": \"CHEVROLET\", \"Total\": 128}]}};\n",
       "var opt = {};\n",
       "var type = \"vega-lite\";\n",
       "var id = \"1060600f-f22a-4b93-becf-66b6130ed652\";\n",
       "\n",
       "var output_area = this;\n",
       "\n",
       "require([\"nbextensions/jupyter-vega/index\"], function(vega) {\n",
       "  var target = document.createElement(\"div\");\n",
       "  target.id = id;\n",
       "  target.className = \"vega-embed\";\n",
       "\n",
       "  var style = document.createElement(\"style\");\n",
       "  style.textContent = [\n",
       "    \".vega-embed .error p {\",\n",
       "    \"  color: firebrick;\",\n",
       "    \"  font-size: 14px;\",\n",
       "    \"}\",\n",
       "  ].join(\"\\\\n\");\n",
       "\n",
       "  // element is a jQuery wrapped DOM element inside the output area\n",
       "  // see http://ipython.readthedocs.io/en/stable/api/generated/\\\n",
       "  // IPython.display.html#IPython.display.Javascript.__init__\n",
       "  element[0].appendChild(target);\n",
       "  element[0].appendChild(style);\n",
       "\n",
       "  vega.render(\"#\" + id, spec, type, opt, output_area);\n",
       "}, function (err) {\n",
       "  if (err.requireType !== \"scripterror\") {\n",
       "    throw(err);\n",
       "  }\n",
       "});\n"
      ],
      "text/plain": [
       "<vega.vegalite.VegaLite at 0x118655438>"
      ]
     },
     "metadata": {
      "jupyter-vega": "#1060600f-f22a-4b93-becf-66b6130ed652"
     },
     "output_type": "display_data"
    },
    {
     "data": {
      "text/plain": []
     },
     "execution_count": 16,
     "metadata": {},
     "output_type": "execute_result"
    },
    {
     "data": {
      "image/png": "[encoded data removed]"
     },
     "metadata": {
      "jupyter-vega": "#1060600f-f22a-4b93-becf-66b6130ed652"
     },
     "output_type": "display_data"
    }
   ],
   "source": [
    "top_brands_chart = alt.Chart(top_brands_df).mark_bar().encode(\n",
    "    x=\"Marca\",\n",
    "    y=\"Total\",\n",
    "    color=\"Marca\"\n",
    ").properties(\n",
    "    title=\"Marca de automóviles más robados\")\n",
    "top_brands_chart.encoding.x.title = \"Marca\"\n",
    "top_brands_chart.encoding.y.title = \"Cantidad\"\n",
    "top_brands_chart"
   ]
  },
  {
   "cell_type": "code",
   "execution_count": null,
   "metadata": {},
   "outputs": [],
   "source": []
  }
 ],
 "metadata": {
  "kernelspec": {
   "display_name": "Python 3",
   "language": "python",
   "name": "python3"
  },
  "language_info": {
   "codemirror_mode": {
    "name": "ipython",
    "version": 3
   },
   "file_extension": ".py",
   "mimetype": "text/x-python",
   "name": "python",
   "nbconvert_exporter": "python",
   "pygments_lexer": "ipython3",
   "version": "3.6.4"
  },
  "varInspector": {
   "cols": {
    "lenName": 16,
    "lenType": 16,
    "lenVar": 40
   },
   "kernels_config": {
    "python": {
     "delete_cmd_postfix": "",
     "delete_cmd_prefix": "del ",
     "library": "var_list.py",
     "varRefreshCmd": "print(var_dic_list())"
    },
    "r": {
     "delete_cmd_postfix": ") ",
     "delete_cmd_prefix": "rm(",
     "library": "var_list.r",
     "varRefreshCmd": "cat(var_dic_list()) "
    }
   },
   "types_to_exclude": [
    "module",
    "function",
    "builtin_function_or_method",
    "instance",
    "_Feature"
   ],
   "window_display": false
  }
 },
 "nbformat": 4,
 "nbformat_minor": 2
}
