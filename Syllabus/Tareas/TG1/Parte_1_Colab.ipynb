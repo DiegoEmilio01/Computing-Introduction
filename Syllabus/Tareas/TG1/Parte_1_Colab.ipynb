{
 "cells": [
  {
   "cell_type": "markdown",
   "metadata": {
    "colab_type": "text",
    "id": "jhxROK6Q8xW7"
   },
   "source": [
    "# Tarea Grande 1\n",
    "\n",
    "##### Nombre: COMPLETAR\n",
    "\n",
    "## Importación de librerías\n",
    "\n",
    "En la siguiente celda, se importarán las librerías que serán utilizadas para esta parte de la tarea. Si deseas utilizar una librería adicional y que no sea *built-in*, repórtala en el ```README.md``` de tu repositorio. Solo así podremos saber que necesitamos instalar algo más para ejecutar tu tarea y evaluarla."
   ]
  },
  {
   "cell_type": "code",
   "execution_count": null,
   "metadata": {
    "ExecuteTime": {
     "end_time": "2019-04-13T19:12:31.225023Z",
     "start_time": "2019-04-13T19:12:29.782995Z"
    },
    "colab": {},
    "colab_type": "code",
    "id": "g1pM7tK88xW9"
   },
   "outputs": [],
   "source": [
    "import pandas as pd\n",
    "import matplotlib.pyplot as plt\n",
    "import datetime\n",
    "import altair as alt"
   ]
  },
  {
   "cell_type": "markdown",
   "metadata": {
    "colab_type": "text",
    "id": "VvBb3uID8xW_"
   },
   "source": [
    "## Cargar datos"
   ]
  },
  {
   "cell_type": "markdown",
   "metadata": {
    "colab_type": "text",
    "id": "Nkx44FRN9OTr"
   },
   "source": [
    "La celda siguiente descargará el archivo en la carpeta de \"la nube\" donde se encuentra este *notebook*. Tu misión será cargar los datos con la librería `pandas` en la celda subsiguiente, sabiendo que el *notebook* y los archivos están en la misma carpeta."
   ]
  },
  {
   "cell_type": "code",
   "execution_count": null,
   "metadata": {
    "ExecuteTime": {
     "end_time": "2019-04-13T19:14:23.362670Z",
     "start_time": "2019-04-13T19:14:22.942971Z"
    },
    "colab": {
     "base_uri": "https://localhost:8080/",
     "height": 71
    },
    "colab_type": "code",
    "id": "RMw1z1-K8xXA",
    "outputId": "3ea1330c-cbc0-4f5c-f986-4a28bf4e83b0"
   },
   "outputs": [],
   "source": [
    "# Completar\n",
    "!curl -L -o 'data-iic1005-2019.csv' 'https://raw.githubusercontent.com/Exploratorio-DCC-PUC/Syllabus/master/Tareas/data-iic1005-2019.csv'"
   ]
  },
  {
   "cell_type": "markdown",
   "metadata": {
    "colab_type": "text",
    "id": "e708ZbW98xXC"
   },
   "source": [
    "## Estandarizar fechas"
   ]
  },
  {
   "cell_type": "code",
   "execution_count": null,
   "metadata": {
    "colab": {},
    "colab_type": "code",
    "id": "TYDAASuQ8xXD"
   },
   "outputs": [],
   "source": [
    "# Completar"
   ]
  },
  {
   "cell_type": "markdown",
   "metadata": {
    "colab_type": "text",
    "id": "fvNyS2cE8xXF"
   },
   "source": [
    "## Gráfico de línea sobre cantidad de robos según día de la semana"
   ]
  },
  {
   "cell_type": "code",
   "execution_count": null,
   "metadata": {
    "colab": {},
    "colab_type": "code",
    "id": "xVvG4USB8xXG"
   },
   "outputs": [],
   "source": [
    "# Completar"
   ]
  },
  {
   "cell_type": "markdown",
   "metadata": {
    "colab_type": "text",
    "id": "vLpbUimv8xXI"
   },
   "source": [
    "## Gráfico de barra mes versus cantidad de robos"
   ]
  },
  {
   "cell_type": "code",
   "execution_count": null,
   "metadata": {
    "colab": {},
    "colab_type": "code",
    "id": "P4cdYzGD8xXJ"
   },
   "outputs": [],
   "source": [
    "# Completar"
   ]
  },
  {
   "cell_type": "markdown",
   "metadata": {
    "colab_type": "text",
    "id": "NmPnYEDF8xXL"
   },
   "source": [
    "## Gráficos de torta de marcas y modelos más robados"
   ]
  },
  {
   "cell_type": "code",
   "execution_count": null,
   "metadata": {
    "colab": {},
    "colab_type": "code",
    "id": "fx2b9a_18xXM"
   },
   "outputs": [],
   "source": [
    "# Completar"
   ]
  }
 ],
 "metadata": {
  "colab": {
   "collapsed_sections": [],
   "name": "Parte_1.ipynb",
   "provenance": [],
   "version": "0.3.2"
  },
  "kernelspec": {
   "display_name": "Python 3",
   "language": "python",
   "name": "python3"
  },
  "language_info": {
   "codemirror_mode": {
    "name": "ipython",
    "version": 3
   },
   "file_extension": ".py",
   "mimetype": "text/x-python",
   "name": "python",
   "nbconvert_exporter": "python",
   "pygments_lexer": "ipython3",
   "version": "3.6.4"
  },
  "varInspector": {
   "cols": {
    "lenName": 16,
    "lenType": 16,
    "lenVar": 40
   },
   "kernels_config": {
    "python": {
     "delete_cmd_postfix": "",
     "delete_cmd_prefix": "del ",
     "library": "var_list.py",
     "varRefreshCmd": "print(var_dic_list())"
    },
    "r": {
     "delete_cmd_postfix": ") ",
     "delete_cmd_prefix": "rm(",
     "library": "var_list.r",
     "varRefreshCmd": "cat(var_dic_list()) "
    }
   },
   "types_to_exclude": [
    "module",
    "function",
    "builtin_function_or_method",
    "instance",
    "_Feature"
   ],
   "window_display": false
  }
 },
 "nbformat": 4,
 "nbformat_minor": 1
}
