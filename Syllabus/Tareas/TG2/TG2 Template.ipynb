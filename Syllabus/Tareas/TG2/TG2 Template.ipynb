{
 "cells": [
  {
   "cell_type": "markdown",
   "metadata": {},
   "source": [
    "## Tarea Grande 2\n",
    "\n",
    "### Integrantes\n",
    "\n",
    "- Nombre alumno 1 (Nro alunmo)\n",
    "- Nombre alumno 2 (Nro alumno)"
   ]
  },
  {
   "cell_type": "markdown",
   "metadata": {},
   "source": [
    "### Imports "
   ]
  },
  {
   "cell_type": "code",
   "execution_count": null,
   "metadata": {},
   "outputs": [],
   "source": [
    "# Imports sugeridos\n",
    "import pandas as pd \n",
    "import altair as alt\n",
    "import numpy as np\n",
    "from sklearn.preprocessing import normalize\n",
    "from sklearn.model_selection import train_test_split \n",
    "from sklearn.metrics import confusion_matrix\n",
    "from sklearn.neighbors import KNeighborsClassifier\n",
    "from sklearn.decomposition import PCA\n",
    "from sklearn.cluster import KMeans\n",
    "\n",
    "# Si estamos un Jupyter Notebook, habilitamos el notebook para visualizar gráficos de Altair\n",
    "# alt.renderers.enable('notebook')\n",
    "\n",
    "# Quitamos la restricción de máximo de puntos a graficar\n",
    "alt.data_transformers.enable('default', max_rows=None)"
   ]
  },
  {
   "cell_type": "markdown",
   "metadata": {},
   "source": [
    "### Cargar y limpiar datos (1 pto)"
   ]
  },
  {
   "cell_type": "code",
   "execution_count": null,
   "metadata": {},
   "outputs": [],
   "source": [
    "## Leer archivo csv y separar los datos de la clase\n",
    "\n",
    "\n",
    "## Quitar columnas no relacionadas (0.3)\n",
    "\n",
    "\n",
    "## Resolver valores nulos (0.3)\n",
    "\n",
    "\n",
    "## Separar los datos de las clases (0.1)\n",
    "\n",
    "\n",
    "## Normalizar las características (0.3)"
   ]
  },
  {
   "cell_type": "markdown",
   "metadata": {},
   "source": [
    "### Crear y evaluar clasificador (1.5 ptos)"
   ]
  },
  {
   "cell_type": "code",
   "execution_count": null,
   "metadata": {},
   "outputs": [],
   "source": [
    "## Separar test y train (0.3)\n",
    "\n",
    "## Instanciar y entrenar clasificador (0.3). Busca el mejor parámetro para su clasificación\n",
    "\n",
    "## Calcular score en set de train y set de test (0.3)\n",
    "\n",
    "## Dibujar matriz de confusión para set de test (0.6)\n"
   ]
  },
  {
   "cell_type": "markdown",
   "metadata": {},
   "source": [
    "### Evaluar datos usando clustering (1 pto)"
   ]
  },
  {
   "cell_type": "code",
   "execution_count": null,
   "metadata": {},
   "outputs": [],
   "source": [
    "## Hacer reducción de dimensionalidad usando PCA (0.2)\n",
    "\n",
    "## Visualizar los resultados obtenidos por PCA usando las clases reales (0.3)\n"
   ]
  },
  {
   "cell_type": "code",
   "execution_count": null,
   "metadata": {},
   "outputs": [],
   "source": [
    "## Predecir los labels usando KMeans (0.2)\n",
    "\n",
    "## Visualizar los resultados usando las clases obtenidas por KMeans (0.3)\n"
   ]
  },
  {
   "cell_type": "markdown",
   "metadata": {},
   "source": [
    "## Informe\n",
    "\n",
    "\n",
    "### 1. ¿Eliminaste columnas en el dataset que no aportaban información? De ser así, ¿cuáles fueron y por qué?  ¿Cómo resolviste el tema de los valores nulos?\n",
    "\n",
    "Respuesta\n",
    "\n",
    "### 2. ¿Qué normalizaste, filas o columnas? ¿Por qué? ¿Para qué sirve normalizar los datos?  \n",
    "\n",
    "Respuesta\n",
    "\n",
    "### 3. ¿Por qué se separan los datos en set de entrenamiento y set de pruebas? ¿Qué proporción de los datos utilizaste para cada uno y por qué?\n",
    "\n",
    "Respuesta\n",
    "\n",
    "### 4. ¿Qué parámetros modificaste para probar tu clasificador?  ¿Cuál te dio mejor resultado y por qué crees que es así?\n",
    "\n",
    "Respuesta\n",
    "\n",
    "### 5. Explica la diferencia entre el score obtenido en el set de entrenamiento y el set de pruebas. Justifica.\n",
    "\n",
    "Respuesta\n",
    "\n",
    "### 6. Usando la matriz de confusión que obtuviste en la segunda parte. Identifica la clase que mejor predice el modelo. Además identifica el par de clases que suele confundirse más.\n",
    "\n",
    "Respuesta\n",
    "\n",
    "### 7. Al usar PCA reducimos la dimensionalidad de los datos. Nombre dos razones para querer hacer eso.\n",
    "\n",
    "Respuesta\n",
    "\n",
    "### 8. ¿Qué representa el valor K en el algoritmo KMeans? ¿Qué valor usaste para K y por qué?\n",
    "\n",
    "Respuesta\n",
    "\n",
    "### 9. En la tercera parte, compara el gráfico obtenido usando la información de las clases con el gráfico que no utiliza la información de las clases (KMeans). ¿Por qué crees que KMeans falla en identificar perfectamente los clusters reales?\n",
    "\n",
    "Respuesta"
   ]
  }
 ],
 "metadata": {
  "kernelspec": {
   "display_name": "Python 3",
   "language": "python",
   "name": "python3"
  },
  "language_info": {
   "codemirror_mode": {
    "name": "ipython",
    "version": 3
   },
   "file_extension": ".py",
   "mimetype": "text/x-python",
   "name": "python",
   "nbconvert_exporter": "python",
   "pygments_lexer": "ipython3",
   "version": "3.7.3"
  }
 },
 "nbformat": 4,
 "nbformat_minor": 2
}
